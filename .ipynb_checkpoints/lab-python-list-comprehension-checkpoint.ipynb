{
 "cells": [
  {
   "cell_type": "markdown",
   "id": "25d7736c-ba17-4aff-b6bb-66eba20fbf4e",
   "metadata": {},
   "source": [
    "# Lab | List, Dict and Set Comprehension"
   ]
  },
  {
   "cell_type": "markdown",
   "id": "7dd3cbde-675a-4b81-92c3-f728846dbe06",
   "metadata": {},
   "source": [
    "## Exercise: Managing Customer Orders Optimized with Comprehension"
   ]
  },
  {
   "cell_type": "markdown",
   "id": "5d500160-2fb7-4777-b5e4-09d45ebaf328",
   "metadata": {},
   "source": [
    "In the previous exercise, you developed a program to manage customer orders and inventory. Now, let's take it a step further and incorporate comprehension into your code.\n",
    "\n",
    "Follow the steps below to complete the exercise:\n",
    "\n",
    "1. Review your code from the previous exercise and identify areas where you can apply comprehension to simplify and streamline your code. \n",
    "\n",
    "    - *Hint: Apply it to initialize inventory, updating the inventory and printing the updated inventory.*\n",
    "    \n",
    "    - For example, in initializing the inventory, we could have:\n",
    "    \n",
    "        ```python\n",
    "        def initialize_inventory(products):\n",
    "            inventory = {product: int(input(f\"Enter the quantity of {product}s available: \")) for product in products}\n",
    "            return inventory\n",
    "\n",
    "        ```\n",
    "<br>\n",
    "    \n",
    "    \n",
    "2. Modify the function get_customer_orders so it prompts the user to enter the number of customer orders and gathers the product names using a loop and user input. Use comprehension.\n",
    "\n",
    "3. Add a new function to calculate the total price of the customer order. For each product in customer_orders, prompt the user to enter the price of that product. Use comprehension to calculate the total price. Note: assume that the user can only have 1 unit of each product.\n",
    "\n",
    "4. Modify the update_inventory function to remove the product from the inventory if its quantity becomes zero after fulfilling the customer orders. Use comprehension to filter out the products with a quantity of zero from the inventory.\n",
    "\n",
    "5. Print the total price of the customer order.\n",
    "\n",
    "Your code should produce output similar to the following:\n",
    "\n",
    "```python\n",
    "Enter the quantity of t-shirts available:  5\n",
    "Enter the quantity of mugs available:  4\n",
    "Enter the quantity of hats available:  3\n",
    "Enter the quantity of books available:  2\n",
    "Enter the quantity of keychains available:  1\n",
    "Enter the number of customer orders:  2\n",
    "Enter the name of a product that a customer wants to order:  hat\n",
    "Enter the name of a product that a customer wants to order:  keychain\n",
    "\n",
    "Order Statistics:\n",
    "Total Products Ordered: 2\n",
    "Percentage of Unique Products Ordered: 40.0\n",
    "\n",
    "Updated Inventory:\n",
    "t-shirt: 5\n",
    "mug: 4\n",
    "hat: 2\n",
    "book: 2\n",
    "Enter the price of keychain:  5\n",
    "Enter the price of hat:  10\n",
    "Total Price: 15.0\n",
    "\n",
    "```\n"
   ]
  },
  {
   "cell_type": "code",
   "execution_count": 40,
   "id": "a1ef1259",
   "metadata": {},
   "outputs": [],
   "source": [
    "def initialize_inventory(products: list):\n",
    "    \n",
    "    '''\n",
    "    takes products as a parameter for initializing the inventory\n",
    "    returns inventory\n",
    "    '''\n",
    "    # we can not use loop in comprehension  and can not check the correct input\n",
    "\n",
    "    inventory = {key: int(input(f'please enter the quantity of {key}:')) for key in products }\n",
    "    return inventory\n",
    "\n"
   ]
  },
  {
   "cell_type": "code",
   "execution_count": 41,
   "id": "883383f6",
   "metadata": {},
   "outputs": [
    {
     "name": "stdout",
     "output_type": "stream",
     "text": [
      "please enter the quantity of t-shirt:6\n",
      "please enter the quantity of mug:7\n",
      "please enter the quantity of hat:8\n",
      "please enter the quantity of book:9\n",
      "please enter the quantity of keychain:10\n"
     ]
    },
    {
     "data": {
      "text/plain": [
       "{'t-shirt': 6, 'mug': 7, 'hat': 8, 'book': 9, 'keychain': 10}"
      ]
     },
     "execution_count": 41,
     "metadata": {},
     "output_type": "execute_result"
    }
   ],
   "source": [
    "initialize_inventory([\"t-shirt\", \"mug\", \"hat\", \"book\", \"keychain\"])"
   ]
  },
  {
   "cell_type": "code",
   "execution_count": 53,
   "id": "9a469e4c",
   "metadata": {},
   "outputs": [
    {
     "name": "stdout",
     "output_type": "stream",
     "text": [
      "Please enter the number of oders 3\n",
      " you would like to oders 3 items\n",
      "Please enter the name of a product from the following ['t-shirt', 'mug', 'hat', 'book', 'keychain'] product 1 of 3:mug\n",
      "Please enter the name of a product from the following ['t-shirt', 'mug', 'hat', 'book', 'keychain'] product 2 of 3:hat\n",
      "Please enter the name of a product from the following ['t-shirt', 'mug', 'hat', 'book', 'keychain'] product 3 of 3:book\n",
      "Thank you for shopping.\n"
     ]
    },
    {
     "data": {
      "text/plain": [
       "{'book', 'hat', 'mug'}"
      ]
     },
     "execution_count": 53,
     "metadata": {},
     "output_type": "execute_result"
    }
   ],
   "source": [
    "def get_customer_orders():\n",
    "    '''\n",
    "    Getting the order.\n",
    "    '''\n",
    "    products = [\"t-shirt\", \"mug\", \"hat\", \"book\", \"keychain\"]\n",
    "    number_of_orders = int(input('Please enter the number of oders '))\n",
    "    print(f' you would like to oders {number_of_orders} items')\n",
    "    customer_orders = {input(f'Please enter the name of a product from the following {products} product {i + 1} of {number_of_orders}:').strip().lower() for i in range(number_of_orders)}\n",
    "    print('Thank you for shopping.')\n",
    "    return customer_orders\n",
    "\n",
    "get_customer_orders()\n"
   ]
  },
  {
   "cell_type": "code",
   "execution_count": 84,
   "id": "386f660c",
   "metadata": {},
   "outputs": [],
   "source": [
    "def update_inventory(customer_orders, inventory):\n",
    "    for order in customer_orders:\n",
    "            inventory[order] -= 1\n",
    "            \n",
    "    inventory = {(key,value) for key,value in inventory.items() if inventory[order] !=0}\n",
    "                \n",
    "    return inventory\n"
   ]
  },
  {
   "cell_type": "code",
   "execution_count": 93,
   "id": "789e7918",
   "metadata": {},
   "outputs": [
    {
     "name": "stdout",
     "output_type": "stream",
     "text": [
      "total_unique_products: 3, percentage_unique_products: 60.0\n"
     ]
    }
   ],
   "source": [
    "def calculate_order_statistics(customer_orders, products):\n",
    "    total_unique_products = len(customer_orders)\n",
    "    percentage_unique_products = (total_unique_products / len(products)) * 100\n",
    "    return  total_unique_products, percentage_unique_products\n",
    "\n",
    "calculate_order_statistics({'book', 'hat', 'mug'},[\"t-shirt\", \"mug\", \"hat\", \"book\", \"keychain\"])\n",
    "\n",
    "def print_order_statistics (order_statistics):\n",
    "    print (f'total_unique_products: {order_statistics[0]}, percentage_unique_products: {order_statistics[1]}')\n",
    "\n",
    "def print_updated_inventory(inventory):\n",
    "    print(f'the updated inventory is {inventory}')\n",
    "    \n",
    "print_order_statistics((3, 60.0))\n"
   ]
  },
  {
   "cell_type": "code",
   "execution_count": 86,
   "id": "dddcedc5",
   "metadata": {
    "scrolled": true
   },
   "outputs": [
    {
     "name": "stdout",
     "output_type": "stream",
     "text": [
      "{('keychain', 10), ('hat', 7), ('mug', 6), ('t-shirt', 6), ('book', 8)}\n"
     ]
    }
   ],
   "source": [
    "updated_inventory = update_inventory({'book', 'hat', 'mug'},{'t-shirt': 6, 'mug': 7, 'hat': 8, 'book': 9, 'keychain': 10})\n",
    "print(updated_inventory)"
   ]
  },
  {
   "cell_type": "code",
   "execution_count": 87,
   "id": "4275db7a",
   "metadata": {},
   "outputs": [],
   "source": [
    "def Total_price(get_customer_orders):\n",
    "        price = [float(input(f'please enter the price of the product {i} in {get_customer_orders} ')) for i in get_customer_orders]\n",
    "        Total = sum(price)\n",
    "        return print(f'Total Price:{Total}')"
   ]
  },
  {
   "cell_type": "code",
   "execution_count": 88,
   "id": "2a938093",
   "metadata": {},
   "outputs": [
    {
     "name": "stdout",
     "output_type": "stream",
     "text": [
      "please enter the price of the product mug in {'mug', 'hat', 'book'} 5\n",
      "please enter the price of the product hat in {'mug', 'hat', 'book'} 10\n",
      "please enter the price of the product book in {'mug', 'hat', 'book'} 8\n",
      "Total Price:23.0\n"
     ]
    }
   ],
   "source": [
    "Total_price({'book', 'hat', 'mug'})"
   ]
  },
  {
   "cell_type": "code",
   "execution_count": null,
   "id": "a04873bf",
   "metadata": {},
   "outputs": [],
   "source": []
  }
 ],
 "metadata": {
  "kernelspec": {
   "display_name": "Python 3 (ipykernel)",
   "language": "python",
   "name": "python3"
  },
  "language_info": {
   "codemirror_mode": {
    "name": "ipython",
    "version": 3
   },
   "file_extension": ".py",
   "mimetype": "text/x-python",
   "name": "python",
   "nbconvert_exporter": "python",
   "pygments_lexer": "ipython3",
   "version": "3.11.5"
  }
 },
 "nbformat": 4,
 "nbformat_minor": 5
}
